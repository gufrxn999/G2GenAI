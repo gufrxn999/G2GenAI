{
 "cells": [
  {
   "cell_type": "code",
   "execution_count": 2,
   "id": "9e890493-e55f-4e2c-bcc0-86bac44a3251",
   "metadata": {},
   "outputs": [
    {
     "name": "stdout",
     "output_type": "stream",
     "text": [
      "How are you\n",
      "I am fine\n"
     ]
    }
   ],
   "source": [
    "# Function\n",
    "\n",
    "# input()\n",
    "\n",
    "# len()\n",
    "\n",
    "def hello():\n",
    "    print('How are you')\n",
    "    print('I am fine')\n",
    "    \n",
    "\n",
    "hello()"
   ]
  },
  {
   "cell_type": "code",
   "execution_count": 4,
   "id": "3bf8ec51-64ef-4f0e-8f54-a06f40b8bfbe",
   "metadata": {},
   "outputs": [
    {
     "name": "stdout",
     "output_type": "stream",
     "text": [
      "Hello Aadesh\n"
     ]
    }
   ],
   "source": [
    "def hello_new(name):\n",
    "    print('Hello ' + name)\n",
    "\n",
    "hello_new('Aadesh')"
   ]
  },
  {
   "cell_type": "code",
   "execution_count": 37,
   "id": "25443cb2-c833-4d48-9219-eab9733bdf19",
   "metadata": {},
   "outputs": [
    {
     "name": "stdout",
     "output_type": "stream",
     "text": [
      "10\n"
     ]
    }
   ],
   "source": [
    "def multiply(num1,num2):\n",
    "    return num1* num2\n",
    "    \n",
    "\n",
    "show = multiply(2,5)\n",
    "print(show)"
   ]
  },
  {
   "cell_type": "code",
   "execution_count": 38,
   "id": "9172bfff-ec7f-4792-a8ca-be719e1d6c7a",
   "metadata": {},
   "outputs": [
    {
     "data": {
      "text/plain": [
       "False"
      ]
     },
     "execution_count": 38,
     "metadata": {},
     "output_type": "execute_result"
    }
   ],
   "source": [
    "None == show"
   ]
  },
  {
   "cell_type": "code",
   "execution_count": 11,
   "id": "2eeddd9f-29b7-4582-9986-555622e6126f",
   "metadata": {},
   "outputs": [
    {
     "name": "stdout",
     "output_type": "stream",
     "text": [
      "Hello\n"
     ]
    }
   ],
   "source": [
    "greet = i\n"
   ]
  },
  {
   "cell_type": "code",
   "execution_count": 13,
   "id": "4ca54535-b551-41cb-aa22-62d20b8af26b",
   "metadata": {},
   "outputs": [
    {
     "data": {
      "text/plain": [
       "True"
      ]
     },
     "execution_count": 13,
     "metadata": {},
     "output_type": "execute_result"
    }
   ],
   "source": [
    "None == greet"
   ]
  },
  {
   "cell_type": "code",
   "execution_count": 22,
   "id": "85fccee5-308a-414e-9e5f-1c0ae9ef2ba9",
   "metadata": {},
   "outputs": [
    {
     "name": "stdout",
     "output_type": "stream",
     "text": [
      "6\n"
     ]
    },
    {
     "data": {
      "text/plain": [
       "True"
      ]
     },
     "execution_count": 22,
     "metadata": {},
     "output_type": "execute_result"
    }
   ],
   "source": [
    "greet = print(2+4)\n",
    "None == greet"
   ]
  },
  {
   "cell_type": "code",
   "execution_count": 39,
   "id": "58602dc4-12d6-4b78-a9c7-26f7fa273109",
   "metadata": {},
   "outputs": [
    {
     "name": "stdout",
     "output_type": "stream",
     "text": [
      "10\n"
     ]
    }
   ],
   "source": [
    "def grocery():\n",
    "    eggs = 10\n",
    "    veggies()\n",
    "    print(eggs)\n",
    "\n",
    "def veggies():\n",
    "    tomato = 1\n",
    "    eggs = 0\n",
    "\n",
    "grocery()"
   ]
  },
  {
   "cell_type": "code",
   "execution_count": 49,
   "id": "72062855-26d6-42a9-8681-a2707467467f",
   "metadata": {},
   "outputs": [
    {
     "name": "stdout",
     "output_type": "stream",
     "text": [
      "42\n",
      "40\n"
     ]
    }
   ],
   "source": [
    "def spam():\n",
    "    eggs = 42\n",
    "    print(eggs)\n",
    "eggs = 40\n",
    "\n",
    "spam()\n",
    "print(eggs)"
   ]
  },
  {
   "cell_type": "code",
   "execution_count": 75,
   "id": "6f1d9e92-8b1f-4fed-bac6-ba4edc312c17",
   "metadata": {},
   "outputs": [
    {
     "name": "stdout",
     "output_type": "stream",
     "text": [
      "test\n"
     ]
    },
    {
     "data": {
      "text/plain": [
       "'spam'"
      ]
     },
     "execution_count": 75,
     "metadata": {},
     "output_type": "execute_result"
    }
   ],
   "source": [
    "def spam():\n",
    "    global eggs\n",
    "    eggs = 'spam'\n",
    "    return eggs\n",
    "\n",
    "eggs_new = 'test'\n",
    "\n",
    "#spam()\n",
    "print(eggs_new)\n",
    "spam()"
   ]
  },
  {
   "cell_type": "code",
   "execution_count": 50,
   "id": "863fff8f-337e-40f7-a241-1567003861e1",
   "metadata": {},
   "outputs": [
    {
     "name": "stdout",
     "output_type": "stream",
     "text": [
      "10\n",
      "10\n"
     ]
    }
   ],
   "source": [
    "x = 10  # global variable\n",
    "\n",
    "def print_x():\n",
    "    print(x)  # accesses the global variable x\n",
    "\n",
    "print_x() \n",
    "print(x)"
   ]
  },
  {
   "cell_type": "code",
   "execution_count": 54,
   "id": "7e839bad-aa50-497b-b45a-d83d442378f3",
   "metadata": {},
   "outputs": [
    {
     "ename": "SyntaxError",
     "evalue": "invalid syntax (859670711.py, line 1)",
     "output_type": "error",
     "traceback": [
      "\u001b[1;36m  Cell \u001b[1;32mIn[54], line 1\u001b[1;36m\u001b[0m\n\u001b[1;33m    global eggs = 42\u001b[0m\n\u001b[1;37m                ^\u001b[0m\n\u001b[1;31mSyntaxError\u001b[0m\u001b[1;31m:\u001b[0m invalid syntax\n"
     ]
    }
   ],
   "source": [
    "eggs = 42\n",
    "\n",
    "def  span():\n",
    "    print(eggs)\n",
    "\n",
    "span()"
   ]
  },
  {
   "cell_type": "code",
   "execution_count": null,
   "id": "c0b46b62-84c3-4c16-8d5c-3a9e62a8d362",
   "metadata": {},
   "outputs": [],
   "source": []
  }
 ],
 "metadata": {
  "kernelspec": {
   "display_name": "Python 3 (ipykernel)",
   "language": "python",
   "name": "python3"
  },
  "language_info": {
   "codemirror_mode": {
    "name": "ipython",
    "version": 3
   },
   "file_extension": ".py",
   "mimetype": "text/x-python",
   "name": "python",
   "nbconvert_exporter": "python",
   "pygments_lexer": "ipython3",
   "version": "3.13.5"
  }
 },
 "nbformat": 4,
 "nbformat_minor": 5
}
