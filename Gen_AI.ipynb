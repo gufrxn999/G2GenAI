{
  "nbformat": 4,
  "nbformat_minor": 0,
  "metadata": {
    "colab": {
      "provenance": []
    },
    "kernelspec": {
      "name": "python3",
      "display_name": "Python 3"
    },
    "language_info": {
      "name": "python"
    }
  },
  "cells": [
    {
      "cell_type": "markdown",
      "source": [
        "# 28-7-2025 Class"
      ],
      "metadata": {
        "id": "b9-GwegPRoUB"
      }
    },
    {
      "cell_type": "code",
      "source": [
        "GenAIDict = {'subject': 'GenAI', 'Course ID': '001', 'Teacher':'Sourabh'}\n",
        "GenAIDict['subject']\n"
      ],
      "metadata": {
        "colab": {
          "base_uri": "https://localhost:8080/",
          "height": 35
        },
        "id": "npmYm9X2hJJL",
        "outputId": "89c173ea-1083-4fe8-a712-1e71231d154d"
      },
      "execution_count": null,
      "outputs": [
        {
          "output_type": "execute_result",
          "data": {
            "text/plain": [
              "'GenAI'"
            ],
            "application/vnd.google.colaboratory.intrinsic+json": {
              "type": "string"
            }
          },
          "metadata": {},
          "execution_count": 1
        }
      ]
    },
    {
      "cell_type": "code",
      "source": [
        "GenAIDict['name']"
      ],
      "metadata": {
        "colab": {
          "base_uri": "https://localhost:8080/",
          "height": 141
        },
        "id": "deDl6MLCiArC",
        "outputId": "663aea13-0594-47db-ad51-e284ad4639e6"
      },
      "execution_count": null,
      "outputs": [
        {
          "output_type": "error",
          "ename": "KeyError",
          "evalue": "'name'",
          "traceback": [
            "\u001b[0;31m---------------------------------------------------------------------------\u001b[0m",
            "\u001b[0;31mKeyError\u001b[0m                                  Traceback (most recent call last)",
            "\u001b[0;32m/tmp/ipython-input-4-925669147.py\u001b[0m in \u001b[0;36m<cell line: 0>\u001b[0;34m()\u001b[0m\n\u001b[0;32m----> 1\u001b[0;31m \u001b[0mGenAIDict\u001b[0m\u001b[0;34m[\u001b[0m\u001b[0;34m'name'\u001b[0m\u001b[0;34m]\u001b[0m\u001b[0;34m\u001b[0m\u001b[0;34m\u001b[0m\u001b[0m\n\u001b[0m",
            "\u001b[0;31mKeyError\u001b[0m: 'name'"
          ]
        }
      ]
    },
    {
      "cell_type": "code",
      "source": [
        "birthdays = {'aadesh': 'Nov 10','debapriya': 'Aug 13','adnan': 'Oct 16'}\n",
        "\n",
        "while True:\n",
        "  print('Enter a name : (blank to quit)')\n",
        "  name = input().strip() # remove leading and trailing spaces\n",
        "\n",
        "  if name == '':\n",
        "    break\n",
        "  name_key = name.lower() #convert to lowercase\n",
        "\n",
        "  if name_key in birthdays:\n",
        "      print(birthdays[name_key] + ' is the birthay of ' + name.upper())\n",
        "  else:\n",
        "      print('I do not have birthday information for' + name.upper())\n",
        "      print('What is their birthday')\n",
        "      bday = input(). strip()\n",
        "      birthdays[name_key] = bday\n",
        "      print('Birthday database updated')\n"
      ],
      "metadata": {
        "colab": {
          "base_uri": "https://localhost:8080/"
        },
        "id": "NxguwpK7iYac",
        "outputId": "1487a6b4-3550-4021-b8e6-976136c9b210"
      },
      "execution_count": 2,
      "outputs": [
        {
          "name": "stdout",
          "output_type": "stream",
          "text": [
            "Enter a name : (blank to quit)\n",
            "adnan\n",
            "Oct 16 is the birthay of ADNAN\n",
            "Enter a name : (blank to quit)\n",
            "Monish\n",
            "I do not have birthday information forMONISH\n",
            "What is their birthday\n",
            "Mar 24\n",
            "Birthday database updated\n",
            "Enter a name : (blank to quit)\n",
            "monish\n",
            "Mar 24 is the birthay of MONISH\n",
            "Enter a name : (blank to quit)\n",
            " \n"
          ]
        }
      ]
    },
    {
      "cell_type": "code",
      "source": [
        "print(birthdays)"
      ],
      "metadata": {
        "colab": {
          "base_uri": "https://localhost:8080/"
        },
        "id": "X33R0Sdwlf9U",
        "outputId": "5a76a47a-6c10-4b9c-9de9-46e560f36bc9"
      },
      "execution_count": null,
      "outputs": [
        {
          "output_type": "stream",
          "name": "stdout",
          "text": [
            "{'aadesh': 'Nov 10', 'debapriya': 'Aug 13', 'adnan': 'Oct 16', 'monish': 'Mar 24'}\n"
          ]
        }
      ]
    },
    {
      "cell_type": "code",
      "source": [
        "birthdays = {'aadesh': 'Nov 10','debapriya': 'Aug 13','adnan': 'Oct 16'}\n",
        "\n",
        "for birthday in birthdays.values():\n",
        "  print(birthday)"
      ],
      "metadata": {
        "colab": {
          "base_uri": "https://localhost:8080/"
        },
        "id": "P8CTwgfin_Nj",
        "outputId": "3caca42d-eb0f-40b1-ccbf-30c020480f52"
      },
      "execution_count": null,
      "outputs": [
        {
          "output_type": "stream",
          "name": "stdout",
          "text": [
            "Nov 10\n",
            "Aug 13\n",
            "Oct 16\n"
          ]
        }
      ]
    },
    {
      "cell_type": "code",
      "source": [
        "birthdays = {'aadesh': 'Nov 10','debapriya': 'Aug 13','adnan': 'Oct 16'}\n",
        "\n",
        "for birthday in birthdays.keys():\n",
        "  print(birthday)"
      ],
      "metadata": {
        "colab": {
          "base_uri": "https://localhost:8080/"
        },
        "id": "noqgwLRCpAWY",
        "outputId": "e2993db1-6b4d-4bc4-df19-606d81404ce9"
      },
      "execution_count": null,
      "outputs": [
        {
          "output_type": "stream",
          "name": "stdout",
          "text": [
            "aadesh\n",
            "debapriya\n",
            "adnan\n"
          ]
        }
      ]
    },
    {
      "cell_type": "code",
      "source": [
        "birthdays = {'aadesh': 'Nov 10','debapriya': 'Aug 13','adnan': 'Oct 16'}\n",
        "\n",
        "for birthday in birthdays.items():\n",
        "  print(birthday)"
      ],
      "metadata": {
        "colab": {
          "base_uri": "https://localhost:8080/"
        },
        "id": "zUtv5VZbpRwf",
        "outputId": "78562c3d-a748-4af6-eb0d-ab6adcf40b0d"
      },
      "execution_count": null,
      "outputs": [
        {
          "output_type": "stream",
          "name": "stdout",
          "text": [
            "('aadesh', 'Nov 10')\n",
            "('debapriya', 'Aug 13')\n",
            "('adnan', 'Oct 16')\n"
          ]
        }
      ]
    },
    {
      "cell_type": "code",
      "source": [
        "birthdays = {'aadesh': 'Nov 10','debapriya': 'Aug 13','adnan': 'Oct 16'}\n",
        "\n",
        "if 'Nov 10' in birthdays.values():\n",
        "  print(birthday)\n",
        "else :\n",
        "  print('not present')"
      ],
      "metadata": {
        "colab": {
          "base_uri": "https://localhost:8080/"
        },
        "id": "GXX0V8QipZ0B",
        "outputId": "ae28c13c-a49a-48ad-ac8a-3352c9a7e7d2"
      },
      "execution_count": null,
      "outputs": [
        {
          "output_type": "stream",
          "name": "stdout",
          "text": [
            "('adnan', 'Oct 16')\n"
          ]
        }
      ]
    },
    {
      "cell_type": "code",
      "source": [
        "birthdays = {'aadesh': 'Nov 10','debapriya': 'Aug 13','adnan': 'Oct 16'}\n",
        "\n",
        "if(birthdays.get('adnan')):\n",
        "  print('do something')\n",
        "else:\n",
        "  print('do something else')"
      ],
      "metadata": {
        "colab": {
          "base_uri": "https://localhost:8080/"
        },
        "id": "vE3026koqFoC",
        "outputId": "bf2d1847-f123-4e78-9b6a-f6a109c09a2b"
      },
      "execution_count": null,
      "outputs": [
        {
          "output_type": "stream",
          "name": "stdout",
          "text": [
            "do something\n"
          ]
        }
      ]
    },
    {
      "cell_type": "code",
      "source": [],
      "metadata": {
        "id": "e22fHQEMT0yB"
      },
      "execution_count": null,
      "outputs": []
    }
  ]
}